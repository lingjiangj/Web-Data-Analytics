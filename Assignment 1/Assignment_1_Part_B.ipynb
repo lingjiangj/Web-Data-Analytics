{
 "cells": [
  {
   "cell_type": "markdown",
   "metadata": {
    "deletable": true,
    "editable": true
   },
   "source": [
    "## Assignment 1 Part B (10 marks)."
   ]
  },
  {
   "cell_type": "markdown",
   "metadata": {
    "deletable": true,
    "editable": true
   },
   "source": [
    "### In this assignment your task is to write a program that obtains all the reviews for a specific restaurant from Yelp.com.  The input to this program should be the complete URL for the Yelp page of the restaurant you want to obtain reviews for.  Make sure that your program obtains all the reviews from all the pages if the reviews paginate to more than one page.  "
   ]
  },
  {
   "cell_type": "markdown",
   "metadata": {
    "deletable": true,
    "editable": true
   },
   "source": [
    "#### For example, let's say the input url is for J Wata Temaki Bar in San Diego.  "
   ]
  },
  {
   "cell_type": "markdown",
   "metadata": {
    "deletable": true,
    "editable": true
   },
   "source": [
    "#### The URL for the restaurant is:"
   ]
  },
  {
   "cell_type": "code",
   "execution_count": null,
   "metadata": {
    "collapsed": true,
    "deletable": true,
    "editable": true
   },
   "outputs": [],
   "source": [
    "yelp_restaurant_url = \"https://www.yelp.com/biz/j-wata-temaki-bar-san-diego-2?osq=restaurant\""
   ]
  },
  {
   "cell_type": "markdown",
   "metadata": {
    "deletable": true,
    "editable": true
   },
   "source": [
    "#### Your program should take the yelp_restaurant_url variable and obtain all the reviews for the restaurant.  Make sure that if the yelp_restaurant_url variable changes, then the reviews you obtain are also for the new restaurant.  "
   ]
  },
  {
   "cell_type": "markdown",
   "metadata": {
    "deletable": true,
    "editable": true
   },
   "source": [
    "#### Your program should output a CSV file with three columns.  In the first column is the restaurant name, in the second column is the reviewers' name, and in the third column is the review text.  "
   ]
  },
  {
   "cell_type": "code",
   "execution_count": null,
   "metadata": {
    "collapsed": true,
    "deletable": true,
    "editable": true
   },
   "outputs": [],
   "source": [
    "def restaurant_review(yelp_restaurant_url):\n",
    "    import urllib.request\n",
    "    restaurant = []\n",
    "    reviewer = []\n",
    "    text = []\n",
    "    html = urllib.request.urlopen(yelp_restaurant_url).read().decode('utf-8')\n",
    "    \n",
    "    last_page = False\n",
    "    \n",
    "    while last_page == False:\n",
    "        \n",
    "        # find the name\n",
    "        name_start_index = html.find(\"<title>\")\n",
    "        html_name = html[name_start_index:]\n",
    "        name_end_index = html_name.find(\"-\")\n",
    "        html_name = html_name[7:name_end_index]\n",
    "        rest_name = html_name.strip()\n",
    "    \n",
    "        while html.find('<li class=\"user-name\">') != -1:\n",
    "            index = html.find('<li class=\"user-name\">')\n",
    "            remaining = html[index:]\n",
    "    \n",
    "            start = remaining.find('_user-name\">')\n",
    "            end = remaining.find('.</a>')\n",
    "            reviewer.append(remaining[start+12:end])\n",
    "    \n",
    "            remaining = remaining[end:]\n",
    "    \n",
    "            start = remaining.find('<p lang=\"en\">')\n",
    "            end = remaining.find('</p>')\n",
    "            text.append(remaining[start+13:end])\n",
    "            restaurant.append(rest_name)\n",
    "    \n",
    "            html = remaining[end:]\n",
    "       \n",
    "        if html.find(\"none next\") != -1:\n",
    "            \n",
    "            index = html.find(\"none next\")\n",
    "            remaining = html[index:]\n",
    "            start = remaining.find('=')\n",
    "            end = remaining.find('>')\n",
    "            link = remaining[start+2:end-1]\n",
    "            html = urllib.request.urlopen(link).read().decode('utf-8')\n",
    "        else:\n",
    "            last_page = True\n",
    "    \n",
    "    \n",
    "    Output_file = open(\"resturant_review.csv\",\"w\")\n",
    "    Output_file.write(\"Restaurant_Name\"+','+\"Reviewer_Name\"+','+\"Review_text\"+\",\\n\")\n",
    "    for item in range(len (reviewer)):\n",
    "        Output_file.write(restaurant[item]+\",\"+reviewer[item]+\",\"+text[item]+\",\\n\")\n",
    "    Output_file.close()\n",
    "    \n",
    "    \n",
    " \n",
    "\n",
    "restaurant_review(yelp_restaurant_url)\n",
    "        \n"
   ]
  }
 ],
 "metadata": {
  "kernelspec": {
   "display_name": "Python 3",
   "language": "python",
   "name": "python3"
  },
  "language_info": {
   "codemirror_mode": {
    "name": "ipython",
    "version": 3
   },
   "file_extension": ".py",
   "mimetype": "text/x-python",
   "name": "python",
   "nbconvert_exporter": "python",
   "pygments_lexer": "ipython3",
   "version": "3.6.8"
  }
 },
 "nbformat": 4,
 "nbformat_minor": 2
}
