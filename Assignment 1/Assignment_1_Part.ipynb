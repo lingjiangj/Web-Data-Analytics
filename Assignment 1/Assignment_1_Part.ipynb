{
 "cells": [
  {
   "cell_type": "markdown",
   "metadata": {
    "deletable": true,
    "editable": true
   },
   "source": [
    "# EDGAR - Reading Information Tables in Text Format - Advanced Text Mining (25 marks)"
   ]
  },
  {
   "cell_type": "markdown",
   "metadata": {
    "deletable": true,
    "editable": true
   },
   "source": [
    "#### So far, we have collected CIKs for each of the Mutual Funds, then looked up the links of all the 13F HRs and the Information Tables, and identified them either text tables or xml tables. In class, we  obtained the information from the xml tables.  In this assignment we will obtain information from the text file.  These are not as nicely structured as the xml output.   In a csv (HW_Mutual_Fund_Info_Table_Link.csv) you will find a few of these links.  Your goal for this part of the homework is to obtain the link to the text files from the attached file  (HW_Mutual_Fund_Info_Table_Link.csv).  Then you will write a code that will go to the links of all the linked text files, and extract some columns.  Do not use Beutiful Soup for this assignment.   We provide some initial code to guide your initial steps:"
   ]
  },
  {
   "cell_type": "markdown",
   "metadata": {
    "deletable": true,
    "editable": true
   },
   "source": [
    "#### First we have to collect the links of the text Info Tables in lists:"
   ]
  },
  {
   "cell_type": "code",
   "execution_count": 6,
   "metadata": {
    "collapsed": true,
    "deletable": true,
    "editable": true
   },
   "outputs": [
    {
     "data": {
      "text/plain": [
       "(122, 122, 122)"
      ]
     },
     "execution_count": 6,
     "metadata": {},
     "output_type": "execute_result"
    }
   ],
   "source": [
    "import urllib\n",
    "\n",
    "text_link = []\n",
    "text_Name = []\n",
    "text_date = []\n",
    "\n",
    "input_file = open('HW_Mutual_Fund_Info_Table_Link.csv', 'r')\n",
    "\n",
    "rows = input_file.readlines()\n",
    "input_file.close()\n",
    "\n",
    "# Your Code on Enumerating the Lists.  The result should be three lists, text_link, text_Name,\n",
    "#and text_date.  Each should have length 122.\n",
    "for row in range(len(rows)):\n",
    "    new = rows[row].split(\",\")\n",
    "    if new[4] == \"text\":\n",
    "        text_link.append(new[3])\n",
    "        text_Name.append(new[1])\n",
    "        text_date.append(new[2])\n",
    "len(text_link),len(text_Name),len(text_date)"
   ]
  },
  {
   "cell_type": "markdown",
   "metadata": {
    "deletable": true,
    "editable": true
   },
   "source": [
    "#### Keep only the links that correspond to a date after 2010 (Don't inlude 2010, start at 2011).  Hint: you can use the datetime library."
   ]
  },
  {
   "cell_type": "code",
   "execution_count": 7,
   "metadata": {
    "deletable": true,
    "editable": true
   },
   "outputs": [
    {
     "data": {
      "text/plain": [
       "(['2013-05-06',\n",
       "  '2013-05-01',\n",
       "  '2013-02-08',\n",
       "  '2012-11-07',\n",
       "  '2012-08-09',\n",
       "  '2012-05-15',\n",
       "  '2012-02-02',\n",
       "  '2011-02-14'],\n",
       " ['Adirondack_Funds',\n",
       "  'ADVANCE_CAPITAL_I_INC',\n",
       "  'ADVANCE_CAPITAL_I_INC',\n",
       "  'ADVANCE_CAPITAL_I_INC',\n",
       "  'ADVANCE_CAPITAL_I_INC',\n",
       "  'ADVANCE_CAPITAL_I_INC',\n",
       "  'ADVANCE_CAPITAL_I_INC',\n",
       "  'Global_X_Funds'],\n",
       " ['/Archives/edgar/data/1311981/000116204413000513/0001162044-13-000513.txt',\n",
       "  '/Archives/edgar/data/813470/000081347013000006/0000813470-13-000006.txt',\n",
       "  '/Archives/edgar/data/813470/000081347013000001/0000813470-13-000001.txt',\n",
       "  '/Archives/edgar/data/813470/000081347012000023/0000813470-12-000023.txt',\n",
       "  '/Archives/edgar/data/813470/000081347012000019/0000813470-12-000019.txt',\n",
       "  '/Archives/edgar/data/813470/000081347012000014/0000813470-12-000014.txt',\n",
       "  '/Archives/edgar/data/813470/000081347012000003/0000813470-12-000003.txt',\n",
       "  '/Archives/edgar/data/1432353/000114420411008428/0001144204-11-008428.txt'])"
      ]
     },
     "execution_count": 7,
     "metadata": {},
     "output_type": "execute_result"
    }
   ],
   "source": [
    "from datetime import datetime\n",
    "\n",
    "#Use the following list to store the filtered values.\n",
    "filtered_dates = []\n",
    "filtered_name = []\n",
    "filtered_link = []\n",
    "\n",
    "#Enter code here to to keep only the dates corresponding to after 2010.  \n",
    "for row in range(len(text_date)):\n",
    "    if datetime.strptime(text_date[row],'%Y-%m-%d') >= datetime(2011,1,1):\n",
    "        filtered_dates.append(text_date[row])\n",
    "        filtered_name.append(text_Name[row]) \n",
    "        filtered_link.append(text_link[row])\n",
    "\n",
    "filtered_dates,filtered_name,filtered_link"
   ]
  },
  {
   "cell_type": "markdown",
   "metadata": {
    "deletable": true,
    "editable": true
   },
   "source": [
    "#### Your filtered list should now have 8 elements.  These represent 3 mutual funds.   The first one has CIK=1311981 (from the link you can find this at data/1311981 ).  The second was has CIK 813470.  The third one has CIK 1432353. \n",
    "\n",
    "['https://www.sec.gov/Archives/edgar/data/1311981/000116204413000513/0001162044-13-000513.txt ',\n",
    " 'https://www.sec.gov/Archives/edgar/data/813470/000081347013000006/0000813470-13-000006.txt ',\n",
    " 'https://www.sec.gov/Archives/edgar/data/813470/000081347013000001/0000813470-13-000001.txt ',\n",
    " 'https://www.sec.gov/Archives/edgar/data/813470/000081347012000023/0000813470-12-000023.txt ',\n",
    " 'https://www.sec.gov/Archives/edgar/data/813470/000081347012000019/0000813470-12-000019.txt ',\n",
    " 'https://www.sec.gov/Archives/edgar/data/813470/000081347012000014/0000813470-12-000014.txt ',\n",
    " 'https://www.sec.gov/Archives/edgar/data/813470/000081347012000003/0000813470-12-000003.txt ',\n",
    " 'https://www.sec.gov/Archives/edgar/data/1432353/000114420411008428/0001144204-11-008428.txt ']"
   ]
  },
  {
   "cell_type": "markdown",
   "metadata": {
    "deletable": true,
    "editable": true
   },
   "source": [
    "#### Next, for each text link, extract the name of issuer, CUSIP, and the Quantity of shares.  You will also want to keep track of the mutual fund name as well as the filing report date.  \n",
    "\n",
    "#### Your output file should have 5 columns.  The first is the issue date of the form which can be found in the filtered_date list (this will be repeated for the same form).  The second is the mutual fund name which can be found in the filtered_name list (this will be repeated).  The third, fourth and fifith are the name of issuer, CUSIP, and shares respectively.  Make sure to account for the fact that while some of the text files have the same formatting, others do not.  This means you will have to look through them to make sure your code works for the each text file."
   ]
  },
  {
   "cell_type": "code",
   "execution_count": 8,
   "metadata": {
    "collapsed": true,
    "deletable": true,
    "editable": true
   },
   "outputs": [],
   "source": [
    "issue_date = []\n",
    "mutual_fund_name = [] \n",
    "name_of_issuer = [] \n",
    "CUSIP = [] # CUSIP number\n",
    "shares = [] # No. of Shares of the company in the Mutual Fund\n",
    "\n",
    "for link in range(len(filtered_link)):\n",
    "    url = 'https://www.sec.gov'+filtered_link[link]\n",
    "    html = urllib.request.urlopen(url).read().decode('utf-8')\n",
    "    \n",
    "    while html.find(\"<CAPTION>\") != -1:\n",
    "        index = html.find(\"<CAPTION>\") \n",
    "        html2 = html[index+10:]\n",
    "        index_Start = html2.find(\"<\")\n",
    "        index_End = html2.find(\"</TABLE>\")\n",
    "        \n",
    "        if html2.find(\"GRAND\")!= -1:\n",
    "            index_End = html2.find(\"GRAND\")\n",
    "            html2 = html2[index_Start:index_End]\n",
    "        else:\n",
    "            html2 = html2[index_Start:index_End]  #going closer to the results table\n",
    "   \n",
    "        findIndex = html2.split(\"\\n\")\n",
    "        #Find Issuer Name Index for each line\n",
    "        NameIndex_Start = findIndex[0].find(\"<\")\n",
    "        NameIndex_End = findIndex[0][NameIndex_Start+1:].find(\"<\")+1\n",
    "        #Find CUSIP Index for each line\n",
    "        CUSIP_Start = findIndex[0].find(\"<\",NameIndex_End+1)\n",
    "        CUSIP_End = findIndex[0].find(\"<\",CUSIP_Start+1)\n",
    "        #Fine Share Index for each line\n",
    "        Share_Start = findIndex[0].find(\"<\",CUSIP_End+1)\n",
    "        Share_End = findIndex[0].find(\"<\",Share_Start+1)\n",
    "    \n",
    "        # for file1 and file7, we have different startlines to get data.\n",
    "        if link == 0:\n",
    "            startline = 3\n",
    "        elif link == 6:\n",
    "            startline = 4\n",
    "        else:\n",
    "            startline = 1\n",
    "    \n",
    "        for row in range(startline,len(findIndex)):\n",
    "            # remove blank items, if the issuer name is seperated in 2 lines, add the second line to the previous line.\n",
    "            if findIndex[row][NameIndex_Start:NameIndex_End].strip() != '':\n",
    "                if findIndex[row][CUSIP_Start:CUSIP_End]!='':\n",
    "                    issue_date.append(filtered_dates[link])\n",
    "                    mutual_fund_name.append(filtered_name[link])\n",
    "                    name_of_issuer.append(findIndex[row][NameIndex_Start:NameIndex_End].strip())\n",
    "                    CUSIP.append(findIndex[row][CUSIP_Start:CUSIP_End].strip())\n",
    "                    shares.append(findIndex[row][Share_Start:Share_End].strip())\n",
    "                else:\n",
    "                    name_of_issuer[-1] = name_of_issuer[-1]+findIndex[row][NameIndex_Start:NameIndex_End].strip()\n",
    "        html = html[index_End:]\n"
   ]
  },
  {
   "cell_type": "markdown",
   "metadata": {
    "deletable": true,
    "editable": true
   },
   "source": [
    "#### Finally, you write down the lists in the following file:"
   ]
  },
  {
   "cell_type": "code",
   "execution_count": 9,
   "metadata": {
    "collapsed": true,
    "deletable": true,
    "editable": true
   },
   "outputs": [],
   "source": [
    "# Your code goes here\n",
    "Output_File = open(\"Mutual_Fund_Info_Table.txt\", 'w')\n",
    "Output_File.write(\"Issue_date\"+'\\t'+\"Name\"+'\\t'+\"Name_of_Issuer\"+'\\t'+\"CUSIP\"+\"\\t\"+\"Shares\"+\"\\n\")\n",
    "for x in range(len(issue_date)):\n",
    "    Output_File.write(issue_date[x] + '\\t' + mutual_fund_name[x] + '\\t' + name_of_issuer[x] + '\\t' + CUSIP[x] + '\\t' + shares[x] + '\\n')\n",
    "\n",
    "Output_File.close()\n"
   ]
  },
  {
   "cell_type": "code",
   "execution_count": null,
   "metadata": {},
   "outputs": [],
   "source": []
  },
  {
   "cell_type": "code",
   "execution_count": null,
   "metadata": {},
   "outputs": [],
   "source": []
  },
  {
   "cell_type": "code",
   "execution_count": null,
   "metadata": {},
   "outputs": [],
   "source": []
  }
 ],
 "metadata": {
  "kernelspec": {
   "display_name": "Python 3",
   "language": "python",
   "name": "python3"
  },
  "language_info": {
   "codemirror_mode": {
    "name": "ipython",
    "version": 3
   },
   "file_extension": ".py",
   "mimetype": "text/x-python",
   "name": "python",
   "nbconvert_exporter": "python",
   "pygments_lexer": "ipython3",
   "version": "3.6.8"
  }
 },
 "nbformat": 4,
 "nbformat_minor": 2
}
