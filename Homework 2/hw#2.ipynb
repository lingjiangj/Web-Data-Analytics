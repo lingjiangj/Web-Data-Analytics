{
 "cells": [
  {
   "cell_type": "markdown",
   "metadata": {},
   "source": [
    "## Question 1"
   ]
  },
  {
   "cell_type": "code",
   "execution_count": null,
   "metadata": {},
   "outputs": [],
   "source": [
    "pwd"
   ]
  },
  {
   "cell_type": "code",
   "execution_count": null,
   "metadata": {},
   "outputs": [],
   "source": [
    "import urllib.request"
   ]
  },
  {
   "cell_type": "code",
   "execution_count": null,
   "metadata": {},
   "outputs": [],
   "source": [
    "Input_File = open('Files_Directory/BLS/BLS_state_codes.csv','r')\n",
    "Input_File = Input_File.read()"
   ]
  },
  {
   "cell_type": "code",
   "execution_count": null,
   "metadata": {},
   "outputs": [],
   "source": [
    "states_file = Input_File.splitlines(0)\n",
    "\n",
    "## Get Indiana, Mississippi, and NewJersey from BLS_state_codes.csv\n",
    "states_for_url = []\n",
    "for state in states_file:\n",
    "    for s in ['Indiana', 'Mississippi', 'NewJersey']:\n",
    "        if s in state:\n",
    "            states_for_url.append(state.replace(\",\",\".\")) \n",
    "\n",
    "## Generate URL Link\n",
    "urls = []\n",
    "for state in states_for_url:\n",
    "    urls.append(\"https://download.bls.gov/pub/time.series/la/la.data.\"+state)\n",
    "\n",
    "## get state names\n",
    "state_names = []\n",
    "for state in states_for_url:\n",
    "    state_names.append(state[3:].strip())\n",
    "state_names"
   ]
  },
  {
   "cell_type": "code",
   "execution_count": null,
   "metadata": {},
   "outputs": [],
   "source": [
    "for counter in range(0,len(urls)):\n",
    "    print(state_names[counter]) \n",
    "    html = urllib.request.urlopen(urls[counter]).read().decode('utf-8')\n",
    "    \n",
    "    # get only 4 columns; add a column ;keep the data from 2010 till 2015\n",
    "    result = ''\n",
    "    rows = html.splitlines(0)\n",
    "    for row in range(0,len(rows)):\n",
    "        new = rows[row].split('\\t')\n",
    "        del new[4]\n",
    "        if row == 0:\n",
    "            result = \"\\t\".join(new)+'\\t'+'month_year'+'\\n'\n",
    "        else:\n",
    "            if new[1] in '2010,2011,2012,2013,2014,2015':\n",
    "                result +=  \"\\t\".join(new)+'\\t'+new[2][1:]+'_'+new[1]+'\\n'\n",
    "    \n",
    "    output_file = open('Files_Directory/BLS/' + state_names[counter] +  '.txt','w')\n",
    "    output_file.write(result)\n",
    "    output_file.close()                             "
   ]
  },
  {
   "cell_type": "markdown",
   "metadata": {},
   "source": [
    "## Question 2"
   ]
  },
  {
   "cell_type": "code",
   "execution_count": null,
   "metadata": {},
   "outputs": [],
   "source": [
    "pwd"
   ]
  },
  {
   "cell_type": "code",
   "execution_count": null,
   "metadata": {},
   "outputs": [],
   "source": [
    "import urllib.request"
   ]
  },
  {
   "cell_type": "code",
   "execution_count": null,
   "metadata": {},
   "outputs": [],
   "source": [
    "Input_File = open('Files_Directory/BLS/BLS_state_codes.csv','r')\n",
    "Input_File = Input_File.read()"
   ]
  },
  {
   "cell_type": "code",
   "execution_count": null,
   "metadata": {},
   "outputs": [],
   "source": [
    "states_file = Input_File.splitlines(0)\n",
    "\n",
    "## Get New York, Mississippi, and New Jersey  from BLS_state_codes.csv\n",
    "states_for_url = []\n",
    "for state in states_file:\n",
    "    for s in ['NewYork', 'Mississippi', 'NewJersey']:\n",
    "        if s in state:\n",
    "            states_for_url.append(state.replace(\",\",\".\")) \n",
    "\n",
    "## Generate URL Link\n",
    "urls = []\n",
    "for state in states_for_url:\n",
    "    urls.append(\"https://download.bls.gov/pub/time.series/la/la.data.\"+state)\n",
    "\n",
    "## get state names\n",
    "state_names = []\n",
    "for state in states_for_url:\n",
    "    state_names.append(state[3:].strip())\n",
    "state_names"
   ]
  },
  {
   "cell_type": "code",
   "execution_count": null,
   "metadata": {},
   "outputs": [],
   "source": [
    "result = ''\n",
    "for counter in range(0,len(urls)):\n",
    "    print(state_names[counter]) \n",
    "    html = urllib.request.urlopen(urls[counter]).read().decode('utf-8')\n",
    "    rows = html.splitlines(1)\n",
    "    \n",
    "    if counter == 0:\n",
    "        result = 'State\\t' + rows[0]\n",
    "    \n",
    "    for row in range(1,len(rows)):\n",
    "        if rows[row].split('\\t')[1] in '2010,2011,2012,2013,2014,2015' and rows[row].split('\\t')[2][1:]=='06':\n",
    "            result += state_names[counter] +'\\t'+ rows[row]\n",
    "        \n",
    "    output_file = open('Files_Directory/BLS/' + 'all_states_Q2' +  '.txt','w')\n",
    "    output_file.write(result)\n",
    "    output_file.close()     \n",
    "    "
   ]
  }
 ],
 "metadata": {
  "kernelspec": {
   "display_name": "Python 3",
   "language": "python",
   "name": "python3"
  },
  "language_info": {
   "codemirror_mode": {
    "name": "ipython",
    "version": 3
   },
   "file_extension": ".py",
   "mimetype": "text/x-python",
   "name": "python",
   "nbconvert_exporter": "python",
   "pygments_lexer": "ipython3",
   "version": "3.6.8"
  }
 },
 "nbformat": 4,
 "nbformat_minor": 2
}
