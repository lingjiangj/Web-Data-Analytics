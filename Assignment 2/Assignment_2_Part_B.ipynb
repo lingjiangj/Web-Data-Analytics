{
 "cells": [
  {
   "cell_type": "markdown",
   "metadata": {
    "deletable": true,
    "editable": true
   },
   "source": [
    "## Assignment 2 Part B (10 marks)"
   ]
  },
  {
   "cell_type": "markdown",
   "metadata": {
    "deletable": true,
    "editable": true
   },
   "source": [
    "### Your task in this assignment is to scrape the first 3 pages of quotes from the following website:"
   ]
  },
  {
   "cell_type": "markdown",
   "metadata": {
    "deletable": true,
    "editable": true
   },
   "source": [
    "#### http://quotes.toscrape.com/js/"
   ]
  },
  {
   "cell_type": "markdown",
   "metadata": {
    "deletable": true,
    "editable": true
   },
   "source": [
    "### You will need to do this using selenium because the webiste uses javascript to render the content. You will use the chrome driver as discussed in class."
   ]
  },
  {
   "cell_type": "markdown",
   "metadata": {
    "deletable": true,
    "editable": true
   },
   "source": [
    "### Your code should output a csv file with 2 columns.  The first column has the person who stated the quote and the second column has the text of the quote. "
   ]
  },
  {
   "cell_type": "code",
   "execution_count": 1,
   "metadata": {
    "collapsed": true,
    "deletable": true,
    "editable": true
   },
   "outputs": [
    {
     "name": "stderr",
     "output_type": "stream",
     "text": [
      "/usr/local/lib/python3.6/dist-packages/ipykernel_launcher.py:19: DeprecationWarning: use options instead of chrome_options\n"
     ]
    }
   ],
   "source": [
    "import time\n",
    "import random\n",
    "import pandas as pd\n",
    "from bs4 import BeautifulSoup as bs\n",
    "from selenium import webdriver\n",
    "from selenium.webdriver.chrome.options import Options\n",
    "chrome_options = Options()\n",
    "chrome_options.add_argument('--headless')\n",
    "chrome_options.add_argument('--no-sandbox')\n",
    "chrome_options.add_argument('--disable-dev-shm-usage')\n",
    "\n",
    "person = []\n",
    "text = []\n",
    "nextlink = \"http://quotes.toscrape.com/js/\"\n",
    "page = 1\n",
    "\n",
    "while page < 4:\n",
    "\n",
    "    driver = webdriver.Chrome('/usr/local/bin/chromedriver', chrome_options = chrome_options)\n",
    "    driver.get(nextlink)\n",
    "    assert 'Quotes to Scrape' in driver.title\n",
    "    time.sleep(random.uniform(3,7))\n",
    "    html = driver.page_source\n",
    "    driver.quit()\n",
    "    soup = bs(html, 'html.parser')\n",
    "    \n",
    "    for html_class in soup.find_all('div', class_ = \"quote\"): \n",
    "        # find the whole content of each item\n",
    "        quote = html_class.find(\"span\").getText()[1:-2]\n",
    "        by = html_class.find(\"small\").getText()\n",
    "        person.append(by)\n",
    "        text.append(quote)\n",
    "    \n",
    "    page += 1\n",
    "    nextlink = \"http://quotes.toscrape.com\"+soup.find(\"li\",class_ = 'next').find(\"a\").get(\"href\")\n",
    "\n",
    "        \n",
    "output = pd.DataFrame({\"Person\":person,\"Quote\":text})\n",
    "output.to_csv(\"Quotes to Scrape.csv\")"
   ]
  },
  {
   "cell_type": "code",
   "execution_count": null,
   "metadata": {},
   "outputs": [],
   "source": []
  }
 ],
 "metadata": {
  "kernelspec": {
   "display_name": "Python 3",
   "language": "python",
   "name": "python3"
  },
  "language_info": {
   "codemirror_mode": {
    "name": "ipython",
    "version": 3
   },
   "file_extension": ".py",
   "mimetype": "text/x-python",
   "name": "python",
   "nbconvert_exporter": "python",
   "pygments_lexer": "ipython3",
   "version": "3.6.8"
  }
 },
 "nbformat": 4,
 "nbformat_minor": 2
}
