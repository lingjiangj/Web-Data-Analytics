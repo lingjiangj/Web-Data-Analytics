{
 "cells": [
  {
   "cell_type": "markdown",
   "metadata": {},
   "source": [
    "## Question 1"
   ]
  },
  {
   "cell_type": "code",
   "execution_count": null,
   "metadata": {},
   "outputs": [],
   "source": [
    "votes = \"y y n N Y Y n n N y Y n Y\"\n",
    "count_yes = votes.upper().count(\"Y\")\n",
    "count_no = votes.upper().count(\"N\")\n",
    "length_of_votes = len(votes.replace(\" \",\"\"))\n",
    "    \n",
    "percentage_of_yes = count_yes/length_of_votes*100\n",
    "percentage_of_no = count_no/length_of_votes*100\n",
    "\n",
    "print(\"Percentage of yes: {:.2f}%\".format(percentage_of_yes))\n",
    "print(\"Percentage of no: {:.2f}%\".format(percentage_of_no))"
   ]
  },
  {
   "cell_type": "markdown",
   "metadata": {},
   "source": [
    "## Question 2"
   ]
  },
  {
   "cell_type": "code",
   "execution_count": null,
   "metadata": {},
   "outputs": [],
   "source": [
    "family = {'Jay': '123 Liverpool', 'Lisa': '567 Anfield'}\n",
    "friends = dict(Michael='455 Newcastle', Didi='321 Munich')\n",
    "colleagues = dict([('Luis','899 Barcelona'), ('Philippe', '332 Brazil')])"
   ]
  },
  {
   "cell_type": "markdown",
   "metadata": {},
   "source": [
    "#### 1. Print out the names of all of Steven’s friends"
   ]
  },
  {
   "cell_type": "code",
   "execution_count": null,
   "metadata": {},
   "outputs": [],
   "source": [
    "friends_names = list(friends.keys())\n",
    "print(friends_names)"
   ]
  },
  {
   "cell_type": "markdown",
   "metadata": {},
   "source": [
    "#### 2. Now print all of their addresses."
   ]
  },
  {
   "cell_type": "code",
   "execution_count": null,
   "metadata": {},
   "outputs": [],
   "source": [
    "friends_add = list(friends.values())\n",
    "print(friends_add)"
   ]
  },
  {
   "cell_type": "markdown",
   "metadata": {},
   "source": [
    "#### 3. Now print them as “pairs” (name, address)."
   ]
  },
  {
   "cell_type": "code",
   "execution_count": null,
   "metadata": {},
   "outputs": [],
   "source": [
    "pairs = list(friends.items())\n",
    "print(pairs)"
   ]
  },
  {
   "cell_type": "markdown",
   "metadata": {},
   "source": [
    "#### 4. Michael seems to have betrayed Steven.  Remove him from the friends list."
   ]
  },
  {
   "cell_type": "code",
   "execution_count": null,
   "metadata": {},
   "outputs": [],
   "source": [
    "del friends[\"Michael\"]\n",
    "print(friends)"
   ]
  },
  {
   "cell_type": "markdown",
   "metadata": {},
   "source": [
    "#### 5. Steven needs to mail everyone for a party.  Make a single dictionary containing everyone.\n"
   ]
  },
  {
   "cell_type": "code",
   "execution_count": null,
   "metadata": {},
   "outputs": [],
   "source": [
    "everyone = family.copy()\n",
    "everyone.update(friends)\n",
    "everyone.update(colleagues)\n",
    "print(everyone)"
   ]
  },
  {
   "cell_type": "markdown",
   "metadata": {},
   "source": [
    "#### 6. Steven is visiting Barcelona and wants to visit Luis while he’s there.  Get his address."
   ]
  },
  {
   "cell_type": "code",
   "execution_count": null,
   "metadata": {},
   "outputs": [],
   "source": [
    "Luis_address = everyone[\"Luis\"]\n",
    "print(Luis_address)"
   ]
  },
  {
   "cell_type": "markdown",
   "metadata": {},
   "source": [
    "#### 7. Steven has moved to the USA and would like to cut all ties with everyone.  Remove everyone from the dictionary."
   ]
  },
  {
   "cell_type": "code",
   "execution_count": null,
   "metadata": {},
   "outputs": [],
   "source": [
    "everyone.clear()\n",
    "print(everyone)"
   ]
  },
  {
   "cell_type": "markdown",
   "metadata": {},
   "source": [
    "## Question 3"
   ]
  },
  {
   "cell_type": "code",
   "execution_count": null,
   "metadata": {},
   "outputs": [],
   "source": [
    "list = [10, 25, 45, 101, 121, 135, 1244]"
   ]
  },
  {
   "cell_type": "markdown",
   "metadata": {},
   "source": [
    "#### •\tPrint the third element (45) of the list. [recall, the first element is in cell 0]"
   ]
  },
  {
   "cell_type": "code",
   "execution_count": null,
   "metadata": {},
   "outputs": [],
   "source": [
    "print(list[2])"
   ]
  },
  {
   "cell_type": "markdown",
   "metadata": {},
   "source": [
    "#### •\tCompute the sum of the values. "
   ]
  },
  {
   "cell_type": "code",
   "execution_count": null,
   "metadata": {},
   "outputs": [],
   "source": [
    "sum(list)"
   ]
  },
  {
   "cell_type": "markdown",
   "metadata": {},
   "source": [
    "#### •\tCompute the mean of the values. [len() gives the number of elements in a list]     "
   ]
  },
  {
   "cell_type": "code",
   "execution_count": null,
   "metadata": {},
   "outputs": [],
   "source": [
    "sum(list)/len(list)"
   ]
  },
  {
   "cell_type": "markdown",
   "metadata": {},
   "source": [
    "#### •\tCompute the product of all the numbers (multiply them all together). "
   ]
  },
  {
   "cell_type": "code",
   "execution_count": null,
   "metadata": {},
   "outputs": [],
   "source": [
    "def product(list):\n",
    "    product = 1\n",
    "    for i in list:\n",
    "        product *= i\n",
    "    return product\n",
    "product(list)"
   ]
  },
  {
   "cell_type": "markdown",
   "metadata": {},
   "source": [
    "## Question 4"
   ]
  },
  {
   "cell_type": "code",
   "execution_count": null,
   "metadata": {},
   "outputs": [],
   "source": [
    "Fizz = []\n",
    "Buzz = []\n",
    "Fizz_Buzz = []\n",
    "for num in range(0,100):\n",
    "    if num % 5 == 0 and num % 3 == 0:\n",
    "        print(\"Fizz Buzz\")\n",
    "        Fizz_Buzz.append(num)\n",
    "    elif num % 3 == 0:\n",
    "        print(\"Fizz\")\n",
    "        Fizz.append(num)\n",
    "    elif num % 5 == 0:\n",
    "        print(\"Buzz\")\n",
    "        Buzz.append(num)\n",
    "    else:\n",
    "        continue\n",
    "print(Fizz)\n",
    "print(Buzz)\n",
    "print(Fizz_Buzz)      "
   ]
  },
  {
   "cell_type": "code",
   "execution_count": null,
   "metadata": {},
   "outputs": [],
   "source": []
  }
 ],
 "metadata": {
  "kernelspec": {
   "display_name": "Python 3",
   "language": "python",
   "name": "python3"
  },
  "language_info": {
   "codemirror_mode": {
    "name": "ipython",
    "version": 3
   },
   "file_extension": ".py",
   "mimetype": "text/x-python",
   "name": "python",
   "nbconvert_exporter": "python",
   "pygments_lexer": "ipython3",
   "version": "3.6.8"
  }
 },
 "nbformat": 4,
 "nbformat_minor": 2
}
